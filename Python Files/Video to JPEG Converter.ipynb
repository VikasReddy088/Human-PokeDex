{
 "cells": [
  {
   "cell_type": "code",
   "execution_count": 1,
   "metadata": {},
   "outputs": [],
   "source": [
    "from imutils import paths\n",
    "import numpy as np\n",
    "import argparse\n",
    "import imutils\n",
    "import pickle\n",
    "import time\n",
    "import cv2\n",
    "import os"
   ]
  },
  {
   "cell_type": "code",
   "execution_count": 13,
   "metadata": {},
   "outputs": [],
   "source": [
    "dataPath = r\"C:\\Users\\Yash Umale\\Documents\\6th Sem\\Open Lab Docs\\Crime Detection\\Annotated Data\\Normal\"\n",
    "outData = r\"C:\\Users\\Yash Umale\\Documents\\6th Sem\\Open Lab Docs\\Crime Detection\\Annotated Data\\Photos\\Normal\"\n",
    "\n",
    "os.chdir(outData)\n",
    "k = 1\n",
    "for fileName in os.listdir(dataPath):\n",
    "    f = os.path.join(dataPath, fileName)\n",
    "    \n",
    "    cam = cv2.VideoCapture(f)\n",
    "    ret, frame = cam.read()\n",
    "    currentframe = 0\n",
    "    i = 0\n",
    "    # a variable to set how many frames you want to skip\n",
    "    frame_skip = 20          # Since the videos are in 30 FPS, and we wants 10 frames per clip\n",
    "    \n",
    "    while cam.isOpened():\n",
    "        ret, frame = cam.read()\n",
    "        k += 1\n",
    "        if not ret:\n",
    "            break\n",
    "        if (i > frame_skip - 1):\n",
    "            cv2.imwrite('Normal_'+ str(k) +'.jpg', frame)\n",
    "            i = 0\n",
    "            continue\n",
    "        i += 1\n",
    "\n",
    "    cam.release()\n",
    "    cv2.destroyAllWindows()"
   ]
  }
 ],
 "metadata": {
  "kernelspec": {
   "display_name": "Python 3",
   "language": "python",
   "name": "python3"
  },
  "language_info": {
   "codemirror_mode": {
    "name": "ipython",
    "version": 3
   },
   "file_extension": ".py",
   "mimetype": "text/x-python",
   "name": "python",
   "nbconvert_exporter": "python",
   "pygments_lexer": "ipython3",
   "version": "3.9.0"
  }
 },
 "nbformat": 4,
 "nbformat_minor": 4
}
